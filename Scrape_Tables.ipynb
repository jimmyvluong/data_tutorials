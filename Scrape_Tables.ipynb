{
 "cells": [
  {
   "cell_type": "markdown",
   "metadata": {},
   "source": [
    "# Extracting Tables from Websites into .csv Files in Python"
   ]
  },
  {
   "cell_type": "markdown",
   "metadata": {},
   "source": [
    "*Original source code/method here:* https://stackoverflow.com/questions/10556048/how-to-extract-tables-from-websites-in-python/44506462\n"
   ]
  },
  {
   "cell_type": "markdown",
   "metadata": {},
   "source": [
    "A common problem we face with publicly available aggregate data is that it is often presented in tables on webpages, with no way to conveniently download the data. A solution is to write a script that will download the data for you and save it as a .csv file."
   ]
  },
  {
   "cell_type": "markdown",
   "metadata": {},
   "source": [
    "Pandas can do this right out of the box, saving you from having to parse the html yourself!\n",
    "\n",
    "There are two options presented:\n",
    "1. A script\n",
    "2. The same code but written in a function\n",
    "\n",
    "Both ultimately achieve the same thing - reading in the table from the URL and tidying up the data."
   ]
  },
  {
   "cell_type": "markdown",
   "metadata": {},
   "source": [
    "## Import Dependencies\n",
    "- [BeatifulSoup](https://pypi.org/project/beautifulsoup4/) - \n",
    "- [lxml](https://lxml.de/) - \n",
    "- [html5lib](https://pypi.org/project/html5lib/) - \n",
    "- [pandas](https://pandas.pydata.org/) - \n",
    "- [requests](https://requests.readthedocs.io/en/master/user/quickstart/) - "
   ]
  },
  {
   "cell_type": "code",
   "execution_count": null,
   "metadata": {},
   "outputs": [],
   "source": [
    "# OPTIONAL: Install packages, if not installed already\n",
    "#pip install bs4\n",
    "#pip install lxml\n",
    "#pip install html5lib"
   ]
  },
  {
   "cell_type": "code",
   "execution_count": 54,
   "metadata": {},
   "outputs": [],
   "source": [
    "# Import 3rd party dependencies\n",
    "import requests\n",
    "import pandas as pd\n",
    "from bs4 import BeautifulSoup\n",
    "import lxml\n",
    "import html5lib"
   ]
  },
  {
   "cell_type": "markdown",
   "metadata": {},
   "source": [
    "# Option 1: An example script to read in and wrangle data"
   ]
  },
  {
   "cell_type": "markdown",
   "metadata": {},
   "source": [
    "For these examples, we will be reading in staff demographic data from the California Department of Education.\n",
    "https://dq.cde.ca.gov/dataquest/dqcensus/StfFteClassifiedLevels.aspx?cds=00&agglevel=State&year=2019-20"
   ]
  },
  {
   "cell_type": "markdown",
   "metadata": {},
   "source": [
    "* `read_html()` extracts all tables from your html and puts them in a list of DataFrames.  \n",
    "* `df_list[-2]` is used in the example to extract the 2nd to last table from the web page.\n",
    "* `to_csv()` is used to convert each dataframe to a csv file."
   ]
  },
  {
   "cell_type": "code",
   "execution_count": 55,
   "metadata": {},
   "outputs": [
    {
     "data": {
      "text/html": [
       "<div>\n",
       "<style scoped>\n",
       "    .dataframe tbody tr th:only-of-type {\n",
       "        vertical-align: middle;\n",
       "    }\n",
       "\n",
       "    .dataframe tbody tr th {\n",
       "        vertical-align: top;\n",
       "    }\n",
       "\n",
       "    .dataframe thead th {\n",
       "        text-align: right;\n",
       "    }\n",
       "</style>\n",
       "<table border=\"1\" class=\"dataframe\">\n",
       "  <thead>\n",
       "    <tr style=\"text-align: right;\">\n",
       "      <th></th>\n",
       "      <th>County</th>\n",
       "      <th>Ethnicity</th>\n",
       "      <th>Number of FTE Staff</th>\n",
       "    </tr>\n",
       "  </thead>\n",
       "  <tbody>\n",
       "    <tr>\n",
       "      <th>0</th>\n",
       "      <td>Alameda</td>\n",
       "      <td>American Indianor Alaska Native,not Hispanic</td>\n",
       "      <td>83.79</td>\n",
       "    </tr>\n",
       "    <tr>\n",
       "      <th>1</th>\n",
       "      <td>Alpine</td>\n",
       "      <td>American Indianor Alaska Native,not Hispanic</td>\n",
       "      <td>1.00</td>\n",
       "    </tr>\n",
       "    <tr>\n",
       "      <th>2</th>\n",
       "      <td>Amador</td>\n",
       "      <td>American Indianor Alaska Native,not Hispanic</td>\n",
       "      <td>5.40</td>\n",
       "    </tr>\n",
       "    <tr>\n",
       "      <th>3</th>\n",
       "      <td>Butte</td>\n",
       "      <td>American Indianor Alaska Native,not Hispanic</td>\n",
       "      <td>30.10</td>\n",
       "    </tr>\n",
       "    <tr>\n",
       "      <th>4</th>\n",
       "      <td>Calaveras</td>\n",
       "      <td>American Indianor Alaska Native,not Hispanic</td>\n",
       "      <td>8.36</td>\n",
       "    </tr>\n",
       "  </tbody>\n",
       "</table>\n",
       "</div>"
      ],
      "text/plain": [
       "      County                                     Ethnicity  \\\n",
       "0    Alameda  American Indianor Alaska Native,not Hispanic   \n",
       "1     Alpine  American Indianor Alaska Native,not Hispanic   \n",
       "2     Amador  American Indianor Alaska Native,not Hispanic   \n",
       "3      Butte  American Indianor Alaska Native,not Hispanic   \n",
       "4  Calaveras  American Indianor Alaska Native,not Hispanic   \n",
       "\n",
       "   Number of FTE Staff  \n",
       "0                83.79  \n",
       "1                 1.00  \n",
       "2                 5.40  \n",
       "3                30.10  \n",
       "4                 8.36  "
      ]
     },
     "execution_count": 55,
     "metadata": {},
     "output_type": "execute_result"
    }
   ],
   "source": [
    "# Assign your URL as a string to `url`\n",
    "url = 'https://dq.cde.ca.gov/dataquest/dqcensus/StfFteClassifiedLevels.aspx?cds=00&agglevel=State&year=2019-20'\n",
    "\n",
    "# Get the html content with `requests`\n",
    "html = requests.get(url).content\n",
    "\n",
    "# Read the html with `read_html()`\n",
    "df_list = pd.read_html(html)\n",
    "\n",
    "# Get the last DataFrame\n",
    "df = df_list[-2]\n",
    "\n",
    "# Delete the `Total` column\n",
    "df.drop(columns=['Total'], inplace = True)\n",
    "\n",
    "# Melt the columns\n",
    "df_melted = pd.melt(df, id_vars=['Name'], var_name = 'Ethnicity', value_name = 'Number of FTE Staff')\n",
    "\n",
    "# Rename the first column\n",
    "df_melted.rename(columns={'Name':'County'}, inplace = True)\n",
    "\n",
    "# Save the DataFrames to a .csv file\n",
    "df_melted.to_csv('my data3.csv')\n",
    "\n",
    "df_melted.head()"
   ]
  },
  {
   "cell_type": "markdown",
   "metadata": {},
   "source": [
    "# Option 2: Creating a function to extract tables from websites"
   ]
  },
  {
   "cell_type": "code",
   "execution_count": 40,
   "metadata": {},
   "outputs": [],
   "source": [
    "# Function to read a DataFrame from a webpage\n",
    "def table_to_df(url, dataframe_pos = -1):\n",
    "    \n",
    "    # Inputs:\n",
    "    # url as a string\n",
    "    # dataframe_pos as an integer\n",
    "    \n",
    "    # Outputs:\n",
    "    # returns a DataFrame, df_created\n",
    "    \n",
    "    # Get the html content with `requests`\n",
    "    html = requests.get(url).content\n",
    "    \n",
    "    # Read the html with `read_html()`\n",
    "    df_list = pd.read_html(html)\n",
    "    \n",
    "    # Get the DataFrame based on dataframe_pos\n",
    "    df_created = df_list[dataframe_pos]\n",
    "    \n",
    "    return df_created"
   ]
  },
  {
   "cell_type": "code",
   "execution_count": 47,
   "metadata": {},
   "outputs": [],
   "source": [
    "# Use the function to create a DataFrame from the html link.\n",
    "df_created_new = table_to_df('https://dq.cde.ca.gov/dataquest/dqcensus/StfFteClassifiedLevels.aspx?cds=00&agglevel=State&year=2019-20', -2)"
   ]
  },
  {
   "cell_type": "code",
   "execution_count": 48,
   "metadata": {},
   "outputs": [
    {
     "data": {
      "text/html": [
       "<div>\n",
       "<style scoped>\n",
       "    .dataframe tbody tr th:only-of-type {\n",
       "        vertical-align: middle;\n",
       "    }\n",
       "\n",
       "    .dataframe tbody tr th {\n",
       "        vertical-align: top;\n",
       "    }\n",
       "\n",
       "    .dataframe thead th {\n",
       "        text-align: right;\n",
       "    }\n",
       "</style>\n",
       "<table border=\"1\" class=\"dataframe\">\n",
       "  <thead>\n",
       "    <tr style=\"text-align: right;\">\n",
       "      <th></th>\n",
       "      <th>Name</th>\n",
       "      <th>American Indianor Alaska Native,not Hispanic</th>\n",
       "      <th>Asian,not Hispanic</th>\n",
       "      <th>Pacific Islander,not Hispanic</th>\n",
       "      <th>Filipino,not Hispanic</th>\n",
       "      <th>Hispanic</th>\n",
       "      <th>African American,not Hispanic</th>\n",
       "      <th>White,not Hispanic</th>\n",
       "      <th>Two or More Races,not Hispanic</th>\n",
       "      <th>Total</th>\n",
       "    </tr>\n",
       "  </thead>\n",
       "  <tbody>\n",
       "    <tr>\n",
       "      <th>0</th>\n",
       "      <td>Alameda</td>\n",
       "      <td>83.79</td>\n",
       "      <td>879.68</td>\n",
       "      <td>147.02</td>\n",
       "      <td>276.78</td>\n",
       "      <td>1952.22</td>\n",
       "      <td>909.29</td>\n",
       "      <td>2553.70</td>\n",
       "      <td>1302.02</td>\n",
       "      <td>8104.50</td>\n",
       "    </tr>\n",
       "    <tr>\n",
       "      <th>1</th>\n",
       "      <td>Alpine</td>\n",
       "      <td>1.00</td>\n",
       "      <td>0.00</td>\n",
       "      <td>0.00</td>\n",
       "      <td>0.00</td>\n",
       "      <td>1.00</td>\n",
       "      <td>0.00</td>\n",
       "      <td>16.75</td>\n",
       "      <td>0.00</td>\n",
       "      <td>18.75</td>\n",
       "    </tr>\n",
       "    <tr>\n",
       "      <th>2</th>\n",
       "      <td>Amador</td>\n",
       "      <td>5.40</td>\n",
       "      <td>0.00</td>\n",
       "      <td>1.00</td>\n",
       "      <td>0.37</td>\n",
       "      <td>7.72</td>\n",
       "      <td>1.00</td>\n",
       "      <td>174.90</td>\n",
       "      <td>2.69</td>\n",
       "      <td>193.08</td>\n",
       "    </tr>\n",
       "    <tr>\n",
       "      <th>3</th>\n",
       "      <td>Butte</td>\n",
       "      <td>30.10</td>\n",
       "      <td>63.89</td>\n",
       "      <td>6.56</td>\n",
       "      <td>6.57</td>\n",
       "      <td>204.49</td>\n",
       "      <td>45.70</td>\n",
       "      <td>1238.25</td>\n",
       "      <td>41.27</td>\n",
       "      <td>1636.83</td>\n",
       "    </tr>\n",
       "    <tr>\n",
       "      <th>4</th>\n",
       "      <td>Calaveras</td>\n",
       "      <td>8.36</td>\n",
       "      <td>3.59</td>\n",
       "      <td>2.34</td>\n",
       "      <td>2.71</td>\n",
       "      <td>25.83</td>\n",
       "      <td>2.44</td>\n",
       "      <td>282.26</td>\n",
       "      <td>5.00</td>\n",
       "      <td>332.53</td>\n",
       "    </tr>\n",
       "  </tbody>\n",
       "</table>\n",
       "</div>"
      ],
      "text/plain": [
       "        Name  American Indianor Alaska Native,not Hispanic  \\\n",
       "0    Alameda                                         83.79   \n",
       "1     Alpine                                          1.00   \n",
       "2     Amador                                          5.40   \n",
       "3      Butte                                         30.10   \n",
       "4  Calaveras                                          8.36   \n",
       "\n",
       "   Asian,not Hispanic  Pacific Islander,not Hispanic  Filipino,not Hispanic  \\\n",
       "0              879.68                         147.02                 276.78   \n",
       "1                0.00                           0.00                   0.00   \n",
       "2                0.00                           1.00                   0.37   \n",
       "3               63.89                           6.56                   6.57   \n",
       "4                3.59                           2.34                   2.71   \n",
       "\n",
       "   Hispanic  African American,not Hispanic  White,not Hispanic  \\\n",
       "0   1952.22                         909.29             2553.70   \n",
       "1      1.00                           0.00               16.75   \n",
       "2      7.72                           1.00              174.90   \n",
       "3    204.49                          45.70             1238.25   \n",
       "4     25.83                           2.44              282.26   \n",
       "\n",
       "   Two or More Races,not Hispanic    Total  \n",
       "0                         1302.02  8104.50  \n",
       "1                            0.00    18.75  \n",
       "2                            2.69   193.08  \n",
       "3                           41.27  1636.83  \n",
       "4                            5.00   332.53  "
      ]
     },
     "execution_count": 48,
     "metadata": {},
     "output_type": "execute_result"
    }
   ],
   "source": [
    "# Examine the data\n",
    "df_created_new.head()"
   ]
  },
  {
   "cell_type": "markdown",
   "metadata": {},
   "source": [
    "Our DataFrame is created and is now ready for wrangling."
   ]
  },
  {
   "cell_type": "code",
   "execution_count": 52,
   "metadata": {},
   "outputs": [],
   "source": [
    "# Delete the `Total` column\n",
    "df_created_new.drop(columns=['Total'], inplace = True)\n",
    "\n",
    "# Melt and rename the columns\n",
    "df_created_new = pd.melt(df_created_new, id_vars=['Name'], var_name = 'Ethnicity', value_name = 'Number of FTE Staff')\n",
    "df_created_new.rename(columns={'Name':'County'}, inplace = True)"
   ]
  },
  {
   "cell_type": "code",
   "execution_count": 53,
   "metadata": {},
   "outputs": [
    {
     "data": {
      "text/html": [
       "<div>\n",
       "<style scoped>\n",
       "    .dataframe tbody tr th:only-of-type {\n",
       "        vertical-align: middle;\n",
       "    }\n",
       "\n",
       "    .dataframe tbody tr th {\n",
       "        vertical-align: top;\n",
       "    }\n",
       "\n",
       "    .dataframe thead th {\n",
       "        text-align: right;\n",
       "    }\n",
       "</style>\n",
       "<table border=\"1\" class=\"dataframe\">\n",
       "  <thead>\n",
       "    <tr style=\"text-align: right;\">\n",
       "      <th></th>\n",
       "      <th>County</th>\n",
       "      <th>Ethnicity</th>\n",
       "      <th>Number of FTE Staff</th>\n",
       "    </tr>\n",
       "  </thead>\n",
       "  <tbody>\n",
       "    <tr>\n",
       "      <th>0</th>\n",
       "      <td>Alameda</td>\n",
       "      <td>American Indianor Alaska Native,not Hispanic</td>\n",
       "      <td>83.79</td>\n",
       "    </tr>\n",
       "    <tr>\n",
       "      <th>1</th>\n",
       "      <td>Alpine</td>\n",
       "      <td>American Indianor Alaska Native,not Hispanic</td>\n",
       "      <td>1.00</td>\n",
       "    </tr>\n",
       "    <tr>\n",
       "      <th>2</th>\n",
       "      <td>Amador</td>\n",
       "      <td>American Indianor Alaska Native,not Hispanic</td>\n",
       "      <td>5.40</td>\n",
       "    </tr>\n",
       "    <tr>\n",
       "      <th>3</th>\n",
       "      <td>Butte</td>\n",
       "      <td>American Indianor Alaska Native,not Hispanic</td>\n",
       "      <td>30.10</td>\n",
       "    </tr>\n",
       "    <tr>\n",
       "      <th>4</th>\n",
       "      <td>Calaveras</td>\n",
       "      <td>American Indianor Alaska Native,not Hispanic</td>\n",
       "      <td>8.36</td>\n",
       "    </tr>\n",
       "  </tbody>\n",
       "</table>\n",
       "</div>"
      ],
      "text/plain": [
       "      County                                     Ethnicity  \\\n",
       "0    Alameda  American Indianor Alaska Native,not Hispanic   \n",
       "1     Alpine  American Indianor Alaska Native,not Hispanic   \n",
       "2     Amador  American Indianor Alaska Native,not Hispanic   \n",
       "3      Butte  American Indianor Alaska Native,not Hispanic   \n",
       "4  Calaveras  American Indianor Alaska Native,not Hispanic   \n",
       "\n",
       "   Number of FTE Staff  \n",
       "0                83.79  \n",
       "1                 1.00  \n",
       "2                 5.40  \n",
       "3                30.10  \n",
       "4                 8.36  "
      ]
     },
     "execution_count": 53,
     "metadata": {},
     "output_type": "execute_result"
    }
   ],
   "source": [
    "# Save the DataFrames to a .csv file\n",
    "df_created_new.to_csv('my data4.csv')\n",
    "\n",
    "# Examine the data\n",
    "df_created_new.head()"
   ]
  }
 ],
 "metadata": {
  "kernelspec": {
   "display_name": "Python 3",
   "language": "python",
   "name": "python3"
  },
  "language_info": {
   "codemirror_mode": {
    "name": "ipython",
    "version": 3
   },
   "file_extension": ".py",
   "mimetype": "text/x-python",
   "name": "python",
   "nbconvert_exporter": "python",
   "pygments_lexer": "ipython3",
   "version": "3.7.6"
  }
 },
 "nbformat": 4,
 "nbformat_minor": 4
}
