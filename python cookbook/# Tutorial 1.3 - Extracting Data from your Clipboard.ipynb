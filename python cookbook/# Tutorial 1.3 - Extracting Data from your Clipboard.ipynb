{
 "cells": [
  {
   "cell_type": "markdown",
   "metadata": {},
   "source": [
    "# Tutorial 1.3 - Extracting Data from your Clipboard using pd.read_clipboard()"
   ]
  },
  {
   "cell_type": "markdown",
   "metadata": {},
   "source": [
    "> *Want to quickly do a one-off copy and paste from a website?*\n",
    ">\n",
    "> Use **`pd.read_clipboard()`**"
   ]
  },
  {
   "cell_type": "code",
   "execution_count": 2,
   "metadata": {},
   "outputs": [],
   "source": [
    "# import pandas\n",
    "import pandas as pd"
   ]
  },
  {
   "cell_type": "markdown",
   "metadata": {},
   "source": [
    "We have our table of interest at this link:\n",
    "\n",
    "https://www.cde.ca.gov/ds/sd/sd/filesenr.asp"
   ]
  },
  {
   "cell_type": "markdown",
   "metadata": {},
   "source": [
    "<div align=\"center\">\n",
    "<img src=\"images/enrollment_data.png\" width=\"100%\">\n",
    "</div>"
   ]
  },
  {
   "cell_type": "markdown",
   "metadata": {},
   "source": [
    "Simply highlight the entire table and its contents and save it to your clipboard using **`CTRL+C`** or **`COMMAND+C`**.\n",
    "\n",
    "**`pd.read_clipboard()`** uses the same input arguments as **`pd.read_csv()`** so if you are having trouble, take a look at [pd.read_csv()`'s documentation](https://pandas.pydata.org/pandas-docs/stable/reference/api/pandas.read_csv.html)."
   ]
  },
  {
   "cell_type": "code",
   "execution_count": 9,
   "metadata": {},
   "outputs": [
    {
     "data": {
      "text/html": [
       "<div>\n",
       "<style scoped>\n",
       "    .dataframe tbody tr th:only-of-type {\n",
       "        vertical-align: middle;\n",
       "    }\n",
       "\n",
       "    .dataframe tbody tr th {\n",
       "        vertical-align: top;\n",
       "    }\n",
       "\n",
       "    .dataframe thead th {\n",
       "        text-align: right;\n",
       "    }\n",
       "</style>\n",
       "<table border=\"1\" class=\"dataframe\">\n",
       "  <thead>\n",
       "    <tr style=\"text-align: right;\">\n",
       "      <th></th>\n",
       "      <th>Year of Data</th>\n",
       "      <th>File Name</th>\n",
       "      <th>File Structure</th>\n",
       "    </tr>\n",
       "  </thead>\n",
       "  <tbody>\n",
       "    <tr>\n",
       "      <th>0</th>\n",
       "      <td>2019–20</td>\n",
       "      <td>enr19 (TXT; 14MB; Posted 13-Apr-2020</td>\n",
       "      <td>File Structure: School Enrollment (2007–19)</td>\n",
       "    </tr>\n",
       "    <tr>\n",
       "      <th>1</th>\n",
       "      <td>2018–19</td>\n",
       "      <td>enr18 (TXT; 14MB; Posted 28-Mar-2019)</td>\n",
       "      <td>File Structure: School Enrollment (2007–19)</td>\n",
       "    </tr>\n",
       "    <tr>\n",
       "      <th>2</th>\n",
       "      <td>2017–18</td>\n",
       "      <td>enr17 (TXT; 14MB; Posted 11-Apr-2018)</td>\n",
       "      <td>File Structure: School Enrollment (2007–19)</td>\n",
       "    </tr>\n",
       "    <tr>\n",
       "      <th>3</th>\n",
       "      <td>2016–17</td>\n",
       "      <td>enr16 (TXT; 13MB; Posted 11-Apr-2017)</td>\n",
       "      <td>File Structure: School Enrollment (2007–19)</td>\n",
       "    </tr>\n",
       "  </tbody>\n",
       "</table>\n",
       "</div>"
      ],
      "text/plain": [
       "  Year of Data                              File Name  \\\n",
       "0      2019–20   enr19 (TXT; 14MB; Posted 13-Apr-2020   \n",
       "1      2018–19  enr18 (TXT; 14MB; Posted 28-Mar-2019)   \n",
       "2      2017–18  enr17 (TXT; 14MB; Posted 11-Apr-2018)   \n",
       "3      2016–17  enr16 (TXT; 13MB; Posted 11-Apr-2017)   \n",
       "\n",
       "                                File Structure  \n",
       "0  File Structure: School Enrollment (2007–19)  \n",
       "1  File Structure: School Enrollment (2007–19)  \n",
       "2  File Structure: School Enrollment (2007–19)  \n",
       "3  File Structure: School Enrollment (2007–19)  "
      ]
     },
     "execution_count": 9,
     "metadata": {},
     "output_type": "execute_result"
    }
   ],
   "source": [
    "pd.read_clipboard()"
   ]
  }
 ],
 "metadata": {
  "kernelspec": {
   "display_name": "Python 3",
   "language": "python",
   "name": "python3"
  },
  "language_info": {
   "codemirror_mode": {
    "name": "ipython",
    "version": 3
   },
   "file_extension": ".py",
   "mimetype": "text/x-python",
   "name": "python",
   "nbconvert_exporter": "python",
   "pygments_lexer": "ipython3",
   "version": "3.7.6"
  }
 },
 "nbformat": 4,
 "nbformat_minor": 4
}
